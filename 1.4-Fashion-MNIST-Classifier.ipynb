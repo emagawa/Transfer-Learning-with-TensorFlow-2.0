{
  "nbformat": 4,
  "nbformat_minor": 0,
  "metadata": {
    "colab": {
      "provenance": [],
      "include_colab_link": true
    },
    "kernelspec": {
      "name": "python3",
      "display_name": "Python 3"
    },
    "accelerator": "GPU"
  },
  "cells": [
    {
      "cell_type": "markdown",
      "metadata": {
        "id": "view-in-github",
        "colab_type": "text"
      },
      "source": [
        "<a href=\"https://colab.research.google.com/github/emagawa/Transfer-Learning-with-TensorFlow-2.0/blob/main/1_4_Fashion_MNIST_Classifier.ipynb\" target=\"_parent\"><img src=\"https://colab.research.google.com/assets/colab-badge.svg\" alt=\"Open In Colab\"/></a>"
      ]
    },
    {
      "cell_type": "markdown",
      "metadata": {
        "id": "oLhBdHYVdsqV"
      },
      "source": [
        "## Installs & Imports"
      ]
    },
    {
      "cell_type": "code",
      "metadata": {
        "id": "IfmFwonMX7K7",
        "colab": {
          "base_uri": "https://localhost:8080/"
        },
        "outputId": "fb06a084-1aff-40d3-e85b-b086394148c8"
      },
      "source": [
        "# Activate TensorFlow 2.x version in Colab\n",
        "%tensorflow_version 2.x"
      ],
      "execution_count": 1,
      "outputs": [
        {
          "output_type": "stream",
          "name": "stdout",
          "text": [
            "Colab only includes TensorFlow 2.x; %tensorflow_version has no effect.\n"
          ]
        }
      ]
    },
    {
      "cell_type": "code",
      "metadata": {
        "id": "UxvIlJKIXqpE"
      },
      "source": [
        "# Import TensorFlow and tf.keras\n",
        "import tensorflow as tf\n",
        "\n",
        "# Import Numpy & helper libraries\n",
        "import numpy as np\n",
        "import matplotlib.pyplot as plt"
      ],
      "execution_count": 2,
      "outputs": []
    },
    {
      "cell_type": "markdown",
      "metadata": {
        "id": "8pvnfpQddxw4"
      },
      "source": [
        "## Data"
      ]
    },
    {
      "cell_type": "markdown",
      "metadata": {
        "id": "hcneuKWyd104"
      },
      "source": [
        "### 1. Load the Fashion-MNIST data"
      ]
    },
    {
      "cell_type": "code",
      "metadata": {
        "id": "OBy4AKUZYJZe"
      },
      "source": [
        "# Load the fashion-mnist pre-shuffled train data and test data from tf.keras.datasets\n",
        "(train_images, train_labels), (test_images, test_labels) = tf.keras.datasets.fashion_mnist.load_data()"
      ],
      "execution_count": 14,
      "outputs": []
    },
    {
      "cell_type": "markdown",
      "metadata": {
        "id": "PAQRm4rWeLcY"
      },
      "source": [
        "\n",
        "### 2. Explore the Fashion-MNIST dataset"
      ]
    },
    {
      "cell_type": "code",
      "metadata": {
        "id": "IejfZWPrYKSw",
        "outputId": "a0dc4b2e-f13d-4d42-f0be-6cc1d628d511",
        "colab": {
          "base_uri": "https://localhost:8080/"
        }
      },
      "source": [
        "# There are 60000 training examples with images (28x28) and corresponding labels\n",
        "print(\"train_images shape:\", train_images.shape, \"train_labels shape:\", train_labels.shape)\n",
        "print(\"test_images shape:\", test_images.shape, \"test_labels shape:\", test_labels.shape)"
      ],
      "execution_count": 4,
      "outputs": [
        {
          "output_type": "stream",
          "name": "stdout",
          "text": [
            "train_images shape: (60000, 28, 28) train_labels shape: (60000,)\n",
            "test_images shape: (10000, 28, 28) test_labels shape: (10000,)\n"
          ]
        }
      ]
    },
    {
      "cell_type": "markdown",
      "metadata": {
        "id": "dPo0sOPxYZ_9"
      },
      "source": [
        "### 3. Data preprocessing"
      ]
    },
    {
      "cell_type": "code",
      "metadata": {
        "id": "cl-0nljie_kq"
      },
      "source": [
        "# Convert data to float32 and normalize the input data\n",
        "train_images = train_images.astype('float32') / 255\n",
        "test_images= test_images.astype('float32') / 255"
      ],
      "execution_count": 5,
      "outputs": []
    },
    {
      "cell_type": "code",
      "metadata": {
        "id": "sOZ0E8_efMd3"
      },
      "source": [
        "# Reshape input data from (28, 28) to (28, 28, 1)\n",
        "train_images = train_images.reshape(train_images.shape[0], 28, 28, 1)\n",
        "test_images = test_images.reshape(test_images.shape[0], 28, 28, 1)"
      ],
      "execution_count": 6,
      "outputs": []
    },
    {
      "cell_type": "code",
      "metadata": {
        "id": "Tw_Jje7wzbZ1",
        "outputId": "e6ae86b9-bb44-4dfa-a21a-9561dcdcee16",
        "colab": {
          "base_uri": "https://localhost:8080/"
        }
      },
      "source": [
        "# Take a look the dataset shape after reshape\n",
        "print(\"train_images shape:\", train_images.shape, \"train_labels shape:\", train_labels.shape)\n",
        "print(\"test_images shape:\", test_images.shape, \"test_labels shape:\", test_labels.shape)"
      ],
      "execution_count": 7,
      "outputs": [
        {
          "output_type": "stream",
          "name": "stdout",
          "text": [
            "train_images shape: (60000, 28, 28, 1) train_labels shape: (60000,)\n",
            "test_images shape: (10000, 28, 28, 1) test_labels shape: (10000,)\n"
          ]
        }
      ]
    },
    {
      "cell_type": "code",
      "metadata": {
        "id": "VviB7FZryLJ1"
      },
      "source": [
        "# One-hot encode the labels\n",
        "train_labels = tf.keras.utils.to_categorical(train_labels, 10)\n",
        "test_labels = tf.keras.utils.to_categorical(test_labels, 10)"
      ],
      "execution_count": 8,
      "outputs": []
    },
    {
      "cell_type": "markdown",
      "metadata": {
        "id": "tbqlCJjHxHvl"
      },
      "source": [
        "Model architecture"
      ]
    },
    {
      "cell_type": "code",
      "metadata": {
        "id": "TNQGL9Q6xeLX"
      },
      "source": [
        "# Define a CNN with keras sequential model\n",
        "def create_model():\n",
        "\n",
        "  # Define the model architecture\n",
        "  model = tf.keras.models.Sequential([\n",
        "    # Must define the input shape in the first layer of the neural network\n",
        "    tf.keras.layers.Conv2D(filters=32, kernel_size=3, padding='same', activation='relu', input_shape=(28,28,1)),\n",
        "    tf.keras.layers.MaxPooling2D(pool_size=2),\n",
        "    tf.keras.layers.Dropout(0.3),\n",
        "\n",
        "    tf.keras.layers.Conv2D(filters=64, kernel_size=3, padding='same', activation='relu'),\n",
        "    tf.keras.layers.MaxPooling2D(pool_size=2),\n",
        "    tf.keras.layers.Dropout(0.3),\n",
        "\n",
        "    tf.keras.layers.Flatten(),\n",
        "    tf.keras.layers.Dense(10, activation='softmax')\n",
        "  ])\n",
        "\n",
        "  # Compile the model\n",
        "  model.compile(loss=tf.keras.losses.categorical_crossentropy,\n",
        "         optimizer=tf.keras.optimizers.Adam(),\n",
        "         metrics=['accuracy'])\n",
        "\n",
        "  return model"
      ],
      "execution_count": 9,
      "outputs": []
    },
    {
      "cell_type": "code",
      "metadata": {
        "id": "CjWB19kLxl96"
      },
      "source": [
        "# Create model\n",
        "model = create_model()"
      ],
      "execution_count": 10,
      "outputs": []
    },
    {
      "cell_type": "code",
      "metadata": {
        "id": "zDd0mkV0xq0m",
        "outputId": "d2c34ce8-8ea7-4a4c-d386-4199c383ee6e",
        "colab": {
          "base_uri": "https://localhost:8080/"
        }
      },
      "source": [
        "# Inspect model architecture\n",
        "model.summary()"
      ],
      "execution_count": 11,
      "outputs": [
        {
          "output_type": "stream",
          "name": "stdout",
          "text": [
            "Model: \"sequential\"\n",
            "_________________________________________________________________\n",
            " Layer (type)                Output Shape              Param #   \n",
            "=================================================================\n",
            " conv2d (Conv2D)             (None, 28, 28, 32)        320       \n",
            "                                                                 \n",
            " max_pooling2d (MaxPooling2  (None, 14, 14, 32)        0         \n",
            " D)                                                              \n",
            "                                                                 \n",
            " dropout (Dropout)           (None, 14, 14, 32)        0         \n",
            "                                                                 \n",
            " conv2d_1 (Conv2D)           (None, 14, 14, 64)        18496     \n",
            "                                                                 \n",
            " max_pooling2d_1 (MaxPoolin  (None, 7, 7, 64)          0         \n",
            " g2D)                                                            \n",
            "                                                                 \n",
            " dropout_1 (Dropout)         (None, 7, 7, 64)          0         \n",
            "                                                                 \n",
            " flatten (Flatten)           (None, 3136)              0         \n",
            "                                                                 \n",
            " dense (Dense)               (None, 10)                31370     \n",
            "                                                                 \n",
            "=================================================================\n",
            "Total params: 50186 (196.04 KB)\n",
            "Trainable params: 50186 (196.04 KB)\n",
            "Non-trainable params: 0 (0.00 Byte)\n",
            "_________________________________________________________________\n"
          ]
        }
      ]
    },
    {
      "cell_type": "code",
      "metadata": {
        "id": "PZn9NCrYxvfL",
        "outputId": "d8891a60-f65b-4291-ea15-88a4163454c8",
        "colab": {
          "base_uri": "https://localhost:8080/"
        }
      },
      "source": [
        "%%time\n",
        "model.fit(train_images,\n",
        "         train_labels,\n",
        "         batch_size=64,\n",
        "         epochs=5)"
      ],
      "execution_count": 12,
      "outputs": [
        {
          "output_type": "stream",
          "name": "stdout",
          "text": [
            "Epoch 1/5\n",
            "938/938 [==============================] - 10s 5ms/step - loss: 0.5315 - accuracy: 0.8093\n",
            "Epoch 2/5\n",
            "938/938 [==============================] - 5s 5ms/step - loss: 0.3711 - accuracy: 0.8689\n",
            "Epoch 3/5\n",
            "938/938 [==============================] - 4s 4ms/step - loss: 0.3287 - accuracy: 0.8832\n",
            "Epoch 4/5\n",
            "938/938 [==============================] - 5s 5ms/step - loss: 0.3031 - accuracy: 0.8923\n",
            "Epoch 5/5\n",
            "938/938 [==============================] - 4s 5ms/step - loss: 0.2877 - accuracy: 0.8978\n",
            "CPU times: user 25.7 s, sys: 2.86 s, total: 28.5 s\n",
            "Wall time: 42.3 s\n"
          ]
        },
        {
          "output_type": "execute_result",
          "data": {
            "text/plain": [
              "<keras.src.callbacks.History at 0x7f116e6105b0>"
            ]
          },
          "metadata": {},
          "execution_count": 12
        }
      ]
    },
    {
      "cell_type": "code",
      "metadata": {
        "id": "75_G-gwPxzHf",
        "outputId": "a3d6b39e-fa0a-46cc-e5f2-f49873497cac",
        "colab": {
          "base_uri": "https://localhost:8080/"
        }
      },
      "source": [
        "model.evaluate(test_images,  test_labels, verbose=2)"
      ],
      "execution_count": 13,
      "outputs": [
        {
          "output_type": "stream",
          "name": "stdout",
          "text": [
            "313/313 - 1s - loss: 0.2744 - accuracy: 0.9030 - 1s/epoch - 3ms/step\n"
          ]
        },
        {
          "output_type": "execute_result",
          "data": {
            "text/plain": [
              "[0.27439457178115845, 0.902999997138977]"
            ]
          },
          "metadata": {},
          "execution_count": 13
        }
      ]
    },
    {
      "cell_type": "code",
      "metadata": {
        "id": "l9Nr-xE-FoS3"
      },
      "source": [],
      "execution_count": 13,
      "outputs": []
    }
  ]
}
