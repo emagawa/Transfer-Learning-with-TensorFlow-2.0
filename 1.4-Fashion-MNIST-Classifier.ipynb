{
  "nbformat": 4,
  "nbformat_minor": 0,
  "metadata": {
    "colab": {
      "provenance": [],
      "toc_visible": true,
      "include_colab_link": true
    },
    "kernelspec": {
      "name": "python3",
      "display_name": "Python 3"
    },
    "accelerator": "GPU"
  },
  "cells": [
    {
      "cell_type": "markdown",
      "metadata": {
        "id": "view-in-github",
        "colab_type": "text"
      },
      "source": [
        "<a href=\"https://colab.research.google.com/github/emagawa/Transfer-Learning-with-TensorFlow-2.0/blob/main/1.4-Fashion-MNIST-Classifier.ipynb\" target=\"_parent\"><img src=\"https://colab.research.google.com/assets/colab-badge.svg\" alt=\"Open In Colab\"/></a>"
      ]
    },
    {
      "cell_type": "markdown",
      "metadata": {
        "id": "oLhBdHYVdsqV"
      },
      "source": [
        "## Installs & Imports"
      ]
    },
    {
      "cell_type": "code",
      "metadata": {
        "id": "IfmFwonMX7K7",
        "colab": {
          "base_uri": "https://localhost:8080/"
        },
        "outputId": "281052b4-6621-45ac-8fd2-e4bcbb1a7ba3"
      },
      "source": [
        "# Activate TensorFlow 2.x version in Colab\n",
        "%tensorflow_version 2.x"
      ],
      "execution_count": 1,
      "outputs": [
        {
          "output_type": "stream",
          "name": "stdout",
          "text": [
            "Colab only includes TensorFlow 2.x; %tensorflow_version has no effect.\n"
          ]
        }
      ]
    },
    {
      "cell_type": "code",
      "metadata": {
        "id": "UxvIlJKIXqpE"
      },
      "source": [
        "# Import TensorFlow and tf.keras\n",
        "import tensorflow as tf\n",
        "\n",
        "# Import Numpy & helper libraries\n",
        "import numpy as np\n",
        "import matplotlib.pyplot as plt"
      ],
      "execution_count": 2,
      "outputs": []
    },
    {
      "cell_type": "markdown",
      "metadata": {
        "id": "8pvnfpQddxw4"
      },
      "source": [
        "## Data"
      ]
    },
    {
      "cell_type": "markdown",
      "metadata": {
        "id": "hcneuKWyd104"
      },
      "source": [
        "### 1. Load the Fashion-MNIST data"
      ]
    },
    {
      "cell_type": "code",
      "metadata": {
        "id": "OBy4AKUZYJZe",
        "colab": {
          "base_uri": "https://localhost:8080/"
        },
        "outputId": "733a2a27-2bae-484f-a101-c34dca0b1198"
      },
      "source": [
        "# Load the fashion-mnist pre-shuffled train data and test data from tf.keras.datasets\n",
        "(train_images, train_labels), (test_images, test_labels) = tf.keras.datasets.fashion_mnist.load_data()"
      ],
      "execution_count": 3,
      "outputs": [
        {
          "output_type": "stream",
          "name": "stdout",
          "text": [
            "Downloading data from https://storage.googleapis.com/tensorflow/tf-keras-datasets/train-labels-idx1-ubyte.gz\n",
            "29515/29515 [==============================] - 0s 0us/step\n",
            "Downloading data from https://storage.googleapis.com/tensorflow/tf-keras-datasets/train-images-idx3-ubyte.gz\n",
            "26421880/26421880 [==============================] - 0s 0us/step\n",
            "Downloading data from https://storage.googleapis.com/tensorflow/tf-keras-datasets/t10k-labels-idx1-ubyte.gz\n",
            "5148/5148 [==============================] - 0s 0us/step\n",
            "Downloading data from https://storage.googleapis.com/tensorflow/tf-keras-datasets/t10k-images-idx3-ubyte.gz\n",
            "4422102/4422102 [==============================] - 0s 0us/step\n"
          ]
        }
      ]
    },
    {
      "cell_type": "markdown",
      "metadata": {
        "id": "PAQRm4rWeLcY"
      },
      "source": [
        "\n",
        "### 2. Explore the Fashion-MNIST dataset"
      ]
    },
    {
      "cell_type": "code",
      "metadata": {
        "id": "IejfZWPrYKSw",
        "outputId": "715302db-cef8-4c37-e2d8-2ebadc0bdd14",
        "colab": {
          "base_uri": "https://localhost:8080/"
        }
      },
      "source": [
        "# There are 60000 training examples with images (28x28) and corresponding labels\n",
        "print(\"train_images shape:\", train_images.shape, \"train_labels shape:\", train_labels.shape)\n",
        "print(\"test_images shape:\", test_images.shape, \"test_labels shape:\", test_labels.shape)"
      ],
      "execution_count": 4,
      "outputs": [
        {
          "output_type": "stream",
          "name": "stdout",
          "text": [
            "train_images shape: (60000, 28, 28) train_labels shape: (60000,)\n",
            "test_images shape: (10000, 28, 28) test_labels shape: (10000,)\n"
          ]
        }
      ]
    },
    {
      "cell_type": "markdown",
      "metadata": {
        "id": "dPo0sOPxYZ_9"
      },
      "source": [
        "### 3. Data preprocessing"
      ]
    },
    {
      "cell_type": "code",
      "metadata": {
        "id": "cl-0nljie_kq"
      },
      "source": [
        "# Convert data to float32 and normalize the input data\n",
        "train_images = train_images.astype('float32') / 255\n",
        "test_images= test_images.astype('float32') / 255"
      ],
      "execution_count": 6,
      "outputs": []
    },
    {
      "cell_type": "code",
      "metadata": {
        "id": "sOZ0E8_efMd3"
      },
      "source": [
        "# Reshape input data from (28, 28) to (28, 28, 1)\n",
        "train_images = train_images.reshape(train_images.shape[0], 28, 28, 1)\n",
        "test_images = test_images.reshape(test_images.shape[0], 28, 28, 1)"
      ],
      "execution_count": 7,
      "outputs": []
    },
    {
      "cell_type": "code",
      "metadata": {
        "id": "Tw_Jje7wzbZ1",
        "outputId": "4fcb2f29-be5d-4ab9-e6b8-50a7d62d6705",
        "colab": {
          "base_uri": "https://localhost:8080/"
        }
      },
      "source": [
        "# Take a look the dataset shape after reshape\n",
        "print(\"train_images shape:\", train_images.shape, \"train_labels shape:\", train_labels.shape)\n",
        "print(\"test_images shape:\", test_images.shape, \"test_labels shape:\", test_labels.shape)"
      ],
      "execution_count": 8,
      "outputs": [
        {
          "output_type": "stream",
          "name": "stdout",
          "text": [
            "train_images shape: (60000, 28, 28, 1) train_labels shape: (60000,)\n",
            "test_images shape: (10000, 28, 28, 1) test_labels shape: (10000,)\n"
          ]
        }
      ]
    },
    {
      "cell_type": "code",
      "metadata": {
        "id": "VviB7FZryLJ1"
      },
      "source": [
        "# One-hot encode the labels\n",
        "train_labels = tf.keras.utils.to_categorical(train_labels, 10)\n",
        "test_labels = tf.keras.utils.to_categorical(test_labels, 10)"
      ],
      "execution_count": 9,
      "outputs": []
    },
    {
      "cell_type": "markdown",
      "metadata": {
        "id": "tbqlCJjHxHvl"
      },
      "source": [
        "Model architecture"
      ]
    },
    {
      "cell_type": "code",
      "metadata": {
        "id": "TNQGL9Q6xeLX"
      },
      "source": [
        "# Define a CNN with keras sequential model\n",
        "def create_model():\n",
        "\n",
        "  # Define the model architecture\n",
        "  model = tf.keras.models.Sequential([\n",
        "    # Must define the input shape in the first layer of the neural network\n",
        "    tf.keras.layers.Conv2D(filters=32, kernel_size=3, padding='same', activation='relu', input_shape=(28,28,1)),\n",
        "    tf.keras.layers.MaxPooling2D(pool_size=2),\n",
        "    tf.keras.layers.Dropout(0.3),\n",
        "\n",
        "    tf.keras.layers.Conv2D(filters=64, kernel_size=3, padding='same', activation='relu'),\n",
        "    tf.keras.layers.MaxPooling2D(pool_size=2),\n",
        "    tf.keras.layers.Dropout(0.3),\n",
        "\n",
        "    tf.keras.layers.Flatten(),\n",
        "    tf.keras.layers.Dense(10, activation='softmax')\n",
        "  ])\n",
        "\n",
        "  # Compile the model\n",
        "  model.compile(loss=tf.keras.losses.categorical_crossentropy,\n",
        "         optimizer=tf.keras.optimizers.Adam(),\n",
        "         metrics=['accuracy'])\n",
        "\n",
        "  return model"
      ],
      "execution_count": 10,
      "outputs": []
    },
    {
      "cell_type": "code",
      "metadata": {
        "id": "CjWB19kLxl96"
      },
      "source": [
        "# Create model\n",
        "model = create_model()"
      ],
      "execution_count": 11,
      "outputs": []
    },
    {
      "cell_type": "code",
      "metadata": {
        "id": "zDd0mkV0xq0m",
        "outputId": "58f6618e-2d45-46a4-86d3-2b90db795b16",
        "colab": {
          "base_uri": "https://localhost:8080/"
        }
      },
      "source": [
        "# Inspect model architecture\n",
        "model.summary()"
      ],
      "execution_count": 12,
      "outputs": [
        {
          "output_type": "stream",
          "name": "stdout",
          "text": [
            "Model: \"sequential\"\n",
            "_________________________________________________________________\n",
            " Layer (type)                Output Shape              Param #   \n",
            "=================================================================\n",
            " conv2d (Conv2D)             (None, 28, 28, 32)        320       \n",
            "                                                                 \n",
            " max_pooling2d (MaxPooling2  (None, 14, 14, 32)        0         \n",
            " D)                                                              \n",
            "                                                                 \n",
            " dropout (Dropout)           (None, 14, 14, 32)        0         \n",
            "                                                                 \n",
            " conv2d_1 (Conv2D)           (None, 14, 14, 64)        18496     \n",
            "                                                                 \n",
            " max_pooling2d_1 (MaxPoolin  (None, 7, 7, 64)          0         \n",
            " g2D)                                                            \n",
            "                                                                 \n",
            " dropout_1 (Dropout)         (None, 7, 7, 64)          0         \n",
            "                                                                 \n",
            " flatten (Flatten)           (None, 3136)              0         \n",
            "                                                                 \n",
            " dense (Dense)               (None, 10)                31370     \n",
            "                                                                 \n",
            "=================================================================\n",
            "Total params: 50186 (196.04 KB)\n",
            "Trainable params: 50186 (196.04 KB)\n",
            "Non-trainable params: 0 (0.00 Byte)\n",
            "_________________________________________________________________\n"
          ]
        }
      ]
    },
    {
      "cell_type": "code",
      "metadata": {
        "id": "PZn9NCrYxvfL",
        "outputId": "59ff4ef5-622a-4080-c7ce-211d73160e53",
        "colab": {
          "base_uri": "https://localhost:8080/"
        }
      },
      "source": [
        "%%time\n",
        "model.fit(train_images,\n",
        "         train_labels,\n",
        "         batch_size=64,\n",
        "         epochs=5)"
      ],
      "execution_count": 13,
      "outputs": [
        {
          "output_type": "stream",
          "name": "stdout",
          "text": [
            "Epoch 1/5\n",
            "938/938 [==============================] - 9s 5ms/step - loss: 1.0426 - accuracy: 0.6303\n",
            "Epoch 2/5\n",
            "938/938 [==============================] - 4s 4ms/step - loss: 0.6688 - accuracy: 0.7533\n",
            "Epoch 3/5\n",
            "938/938 [==============================] - 4s 5ms/step - loss: 0.6253 - accuracy: 0.7698\n",
            "Epoch 4/5\n",
            "938/938 [==============================] - 4s 4ms/step - loss: 0.5943 - accuracy: 0.7792\n",
            "Epoch 5/5\n",
            "938/938 [==============================] - 4s 4ms/step - loss: 0.5715 - accuracy: 0.7896\n",
            "CPU times: user 23.5 s, sys: 2.38 s, total: 25.9 s\n",
            "Wall time: 25.6 s\n"
          ]
        },
        {
          "output_type": "execute_result",
          "data": {
            "text/plain": [
              "<keras.src.callbacks.History at 0x7f7a1250ac50>"
            ]
          },
          "metadata": {},
          "execution_count": 13
        }
      ]
    },
    {
      "cell_type": "code",
      "metadata": {
        "id": "75_G-gwPxzHf",
        "outputId": "1cad6b4d-2c54-4d22-b404-0e3cea66b99e",
        "colab": {
          "base_uri": "https://localhost:8080/"
        }
      },
      "source": [
        "model.evaluate(test_images,  test_labels, verbose=2)"
      ],
      "execution_count": 14,
      "outputs": [
        {
          "output_type": "stream",
          "name": "stdout",
          "text": [
            "313/313 - 1s - loss: 0.5429 - accuracy: 0.8022 - 941ms/epoch - 3ms/step\n"
          ]
        },
        {
          "output_type": "execute_result",
          "data": {
            "text/plain": [
              "[0.5428550839424133, 0.8022000193595886]"
            ]
          },
          "metadata": {},
          "execution_count": 14
        }
      ]
    },
    {
      "cell_type": "code",
      "metadata": {
        "id": "l9Nr-xE-FoS3"
      },
      "source": [],
      "execution_count": null,
      "outputs": []
    }
  ]
}